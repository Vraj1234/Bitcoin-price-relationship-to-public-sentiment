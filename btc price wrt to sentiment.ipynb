{
 "cells": [
  {
   "cell_type": "markdown",
   "metadata": {},
   "source": [
    "## 1. BTC price with Sentiment Analysis \n",
    "\n",
    "Used the [newsapi](https://newsapi.org/) to pull the latest news articles for Bitcoin to create a DataFrame of sentiment scores. Then used coingeck api to fetch BTC prices and plotted both data points along the last 365 days to conclude the corelation between the two is just 0.3"
   ]
  },
  {
   "cell_type": "code",
   "execution_count": 1,
   "metadata": {},
   "outputs": [
    {
     "name": "stderr",
     "output_type": "stream",
     "text": [
      "[nltk_data] Downloading package vader_lexicon to\n",
      "[nltk_data]     /Users/vrajrajpura/nltk_data...\n"
     ]
    }
   ],
   "source": [
    "# Initial imports\n",
    "import os\n",
    "import pandas as pd\n",
    "from dotenv import load_dotenv\n",
    "import nltk as nltk\n",
    "nltk.download('vader_lexicon')\n",
    "from nltk.sentiment.vader import SentimentIntensityAnalyzer\n",
    "analyzer = SentimentIntensityAnalyzer()\n",
    "\n",
    "%matplotlib inline"
   ]
  },
  {
   "cell_type": "code",
   "execution_count": 2,
   "metadata": {},
   "outputs": [],
   "source": [
    "# Read your api key environment variable\n",
    "# Load environment variables and retrieve the News API key\n",
    "load_dotenv()\n",
    "api_key = \"8a1ae66fad01402a9e9b4728ce0e730c\""
   ]
  },
  {
   "cell_type": "code",
   "execution_count": 4,
   "metadata": {},
   "outputs": [],
   "source": [
    "# Create a newsapi client\n",
    "from newsapi import NewsApiClient\n",
    "\n",
    "newsapi = NewsApiClient(api_key=api_key)"
   ]
  },
  {
   "cell_type": "code",
   "execution_count": 5,
   "metadata": {},
   "outputs": [
    {
     "data": {
      "text/plain": [
       "9973"
      ]
     },
     "execution_count": 5,
     "metadata": {},
     "output_type": "execute_result"
    }
   ],
   "source": [
    "# Fetch the Bitcoin news articles\n",
    "bitcoin_news = newsapi.get_everything(\n",
    "    q=\"bitcoin\",\n",
    ")\n",
    "\n",
    "# Show the total number of news\n",
    "bitcoin_news[\"totalResults\"]"
   ]
  },
  {
   "cell_type": "code",
   "execution_count": 6,
   "metadata": {},
   "outputs": [
    {
     "data": {
      "text/html": [
       "<div>\n",
       "<style scoped>\n",
       "    .dataframe tbody tr th:only-of-type {\n",
       "        vertical-align: middle;\n",
       "    }\n",
       "\n",
       "    .dataframe tbody tr th {\n",
       "        vertical-align: top;\n",
       "    }\n",
       "\n",
       "    .dataframe thead th {\n",
       "        text-align: right;\n",
       "    }\n",
       "</style>\n",
       "<table border=\"1\" class=\"dataframe\">\n",
       "  <thead>\n",
       "    <tr style=\"text-align: right;\">\n",
       "      <th></th>\n",
       "      <th>Title</th>\n",
       "      <th>Description</th>\n",
       "      <th>Text</th>\n",
       "      <th>Date</th>\n",
       "      <th>Compound</th>\n",
       "      <th>Positive</th>\n",
       "      <th>Negative</th>\n",
       "      <th>Neutral</th>\n",
       "    </tr>\n",
       "  </thead>\n",
       "  <tbody>\n",
       "    <tr>\n",
       "      <th>0</th>\n",
       "      <td>Bitcoin Price Prediction June 2024 – Here’s Wh...</td>\n",
       "      <td>Bitcoin price started this week relatively slo...</td>\n",
       "      <td>Bitcoin price started this week relatively slo...</td>\n",
       "      <td>2024-05-27T14:21:36Z</td>\n",
       "      <td>0.0000</td>\n",
       "      <td>0.000</td>\n",
       "      <td>0.000</td>\n",
       "      <td>1.000</td>\n",
       "    </tr>\n",
       "    <tr>\n",
       "      <th>1</th>\n",
       "      <td>VanEck Set to Launch Spot Bitcoin ETF on Austr...</td>\n",
       "      <td>Prominent investment management firm VanEck an...</td>\n",
       "      <td>Prominent investment management firm VanEck an...</td>\n",
       "      <td>2024-06-17T15:43:51Z</td>\n",
       "      <td>0.3182</td>\n",
       "      <td>0.056</td>\n",
       "      <td>0.000</td>\n",
       "      <td>0.944</td>\n",
       "    </tr>\n",
       "    <tr>\n",
       "      <th>2</th>\n",
       "      <td>Bitcoin trades above supports, bank collapses ...</td>\n",
       "      <td>Bitcoin (BTC) is nearing a potentially pivotal...</td>\n",
       "      <td>Bitcoin (BTC) is nearing a potentially pivotal...</td>\n",
       "      <td>2024-06-05T11:32:13Z</td>\n",
       "      <td>0.6908</td>\n",
       "      <td>0.179</td>\n",
       "      <td>0.050</td>\n",
       "      <td>0.771</td>\n",
       "    </tr>\n",
       "    <tr>\n",
       "      <th>3</th>\n",
       "      <td>Winklevoss twins donate $1M in Bitcoin to Trum...</td>\n",
       "      <td>Gemini CEO Tyler Winklevoss and his twin broth...</td>\n",
       "      <td>Gemini CEO Tyler Winklevoss and his twin broth...</td>\n",
       "      <td>2024-06-21T16:32:19Z</td>\n",
       "      <td>0.2263</td>\n",
       "      <td>0.044</td>\n",
       "      <td>0.000</td>\n",
       "      <td>0.956</td>\n",
       "    </tr>\n",
       "    <tr>\n",
       "      <th>4</th>\n",
       "      <td>Bitcoin and Ethereum Traders Flee Short-Term B...</td>\n",
       "      <td>TLDR   Bitcoin (BTC) bears expect a prolonged ...</td>\n",
       "      <td>TLDR  \\r\\n&lt;ul&gt;&lt;li&gt;Bitcoin (BTC) bears expect a...</td>\n",
       "      <td>2024-06-20T03:37:47Z</td>\n",
       "      <td>-0.5719</td>\n",
       "      <td>0.000</td>\n",
       "      <td>0.101</td>\n",
       "      <td>0.899</td>\n",
       "    </tr>\n",
       "  </tbody>\n",
       "</table>\n",
       "</div>"
      ],
      "text/plain": [
       "                                               Title  \\\n",
       "0  Bitcoin Price Prediction June 2024 – Here’s Wh...   \n",
       "1  VanEck Set to Launch Spot Bitcoin ETF on Austr...   \n",
       "2  Bitcoin trades above supports, bank collapses ...   \n",
       "3  Winklevoss twins donate $1M in Bitcoin to Trum...   \n",
       "4  Bitcoin and Ethereum Traders Flee Short-Term B...   \n",
       "\n",
       "                                         Description  \\\n",
       "0  Bitcoin price started this week relatively slo...   \n",
       "1  Prominent investment management firm VanEck an...   \n",
       "2  Bitcoin (BTC) is nearing a potentially pivotal...   \n",
       "3  Gemini CEO Tyler Winklevoss and his twin broth...   \n",
       "4  TLDR   Bitcoin (BTC) bears expect a prolonged ...   \n",
       "\n",
       "                                                Text                  Date  \\\n",
       "0  Bitcoin price started this week relatively slo...  2024-05-27T14:21:36Z   \n",
       "1  Prominent investment management firm VanEck an...  2024-06-17T15:43:51Z   \n",
       "2  Bitcoin (BTC) is nearing a potentially pivotal...  2024-06-05T11:32:13Z   \n",
       "3  Gemini CEO Tyler Winklevoss and his twin broth...  2024-06-21T16:32:19Z   \n",
       "4  TLDR  \\r\\n<ul><li>Bitcoin (BTC) bears expect a...  2024-06-20T03:37:47Z   \n",
       "\n",
       "   Compound  Positive  Negative  Neutral  \n",
       "0    0.0000     0.000     0.000    1.000  \n",
       "1    0.3182     0.056     0.000    0.944  \n",
       "2    0.6908     0.179     0.050    0.771  \n",
       "3    0.2263     0.044     0.000    0.956  \n",
       "4   -0.5719     0.000     0.101    0.899  "
      ]
     },
     "execution_count": 6,
     "metadata": {},
     "output_type": "execute_result"
    }
   ],
   "source": [
    "# Create the Bitcoin sentiment scores DataFrame\n",
    "bitcoin_sentiment = []\n",
    "\n",
    "for article in bitcoin_news[\"articles\"]:\n",
    "    try:\n",
    "        sentiment = analyzer.polarity_scores(article['description'])\n",
    "        title = article[\"title\"]\n",
    "        description = article[\"description\"]\n",
    "        text = article[\"content\"]\n",
    "        date = article[\"publishedAt\"]\n",
    "      \n",
    "        bitcoin_sentiment.append({\n",
    "            \"Title\": title,\n",
    "            \"Description\": description,\n",
    "            \"Text\": text,\n",
    "            \"Date\": date,\n",
    "            \"Compound\": sentiment[\"compound\"],\n",
    "            \"Positive\": sentiment[\"pos\"],\n",
    "            \"Negative\": sentiment[\"neg\"],\n",
    "            \"Neutral\": sentiment[\"neu\"]\n",
    "            \n",
    "        })\n",
    "        \n",
    "    except AttributeError:\n",
    "        pass\n",
    "    \n",
    "# Create dataframe\n",
    "btc_df = pd.DataFrame(bitcoin_sentiment)\n",
    "\n",
    "# Preview dataframe\n",
    "btc_df.head()"
   ]
  },
  {
   "cell_type": "code",
   "execution_count": 7,
   "metadata": {},
   "outputs": [
    {
     "data": {
      "text/plain": [
       "pandas.core.series.Series"
      ]
     },
     "execution_count": 7,
     "metadata": {},
     "output_type": "execute_result"
    }
   ],
   "source": [
    "type(btc_df['Text'])"
   ]
  },
  {
   "cell_type": "code",
   "execution_count": 8,
   "metadata": {},
   "outputs": [
    {
     "data": {
      "text/html": [
       "<div>\n",
       "<style scoped>\n",
       "    .dataframe tbody tr th:only-of-type {\n",
       "        vertical-align: middle;\n",
       "    }\n",
       "\n",
       "    .dataframe tbody tr th {\n",
       "        vertical-align: top;\n",
       "    }\n",
       "\n",
       "    .dataframe thead th {\n",
       "        text-align: right;\n",
       "    }\n",
       "</style>\n",
       "<table border=\"1\" class=\"dataframe\">\n",
       "  <thead>\n",
       "    <tr style=\"text-align: right;\">\n",
       "      <th></th>\n",
       "      <th>Compound</th>\n",
       "      <th>Positive</th>\n",
       "      <th>Negative</th>\n",
       "      <th>Neutral</th>\n",
       "    </tr>\n",
       "  </thead>\n",
       "  <tbody>\n",
       "    <tr>\n",
       "      <th>count</th>\n",
       "      <td>97.000000</td>\n",
       "      <td>97.000000</td>\n",
       "      <td>97.000000</td>\n",
       "      <td>97.000000</td>\n",
       "    </tr>\n",
       "    <tr>\n",
       "      <th>mean</th>\n",
       "      <td>0.138396</td>\n",
       "      <td>0.067371</td>\n",
       "      <td>0.041567</td>\n",
       "      <td>0.891082</td>\n",
       "    </tr>\n",
       "    <tr>\n",
       "      <th>std</th>\n",
       "      <td>0.447152</td>\n",
       "      <td>0.072927</td>\n",
       "      <td>0.067578</td>\n",
       "      <td>0.089387</td>\n",
       "    </tr>\n",
       "    <tr>\n",
       "      <th>min</th>\n",
       "      <td>-0.862500</td>\n",
       "      <td>0.000000</td>\n",
       "      <td>0.000000</td>\n",
       "      <td>0.599000</td>\n",
       "    </tr>\n",
       "    <tr>\n",
       "      <th>25%</th>\n",
       "      <td>-0.051600</td>\n",
       "      <td>0.000000</td>\n",
       "      <td>0.000000</td>\n",
       "      <td>0.839000</td>\n",
       "    </tr>\n",
       "    <tr>\n",
       "      <th>50%</th>\n",
       "      <td>0.102700</td>\n",
       "      <td>0.054000</td>\n",
       "      <td>0.000000</td>\n",
       "      <td>0.897000</td>\n",
       "    </tr>\n",
       "    <tr>\n",
       "      <th>75%</th>\n",
       "      <td>0.475400</td>\n",
       "      <td>0.116000</td>\n",
       "      <td>0.063000</td>\n",
       "      <td>0.955000</td>\n",
       "    </tr>\n",
       "    <tr>\n",
       "      <th>max</th>\n",
       "      <td>0.932000</td>\n",
       "      <td>0.268000</td>\n",
       "      <td>0.278000</td>\n",
       "      <td>1.000000</td>\n",
       "    </tr>\n",
       "  </tbody>\n",
       "</table>\n",
       "</div>"
      ],
      "text/plain": [
       "        Compound   Positive   Negative    Neutral\n",
       "count  97.000000  97.000000  97.000000  97.000000\n",
       "mean    0.138396   0.067371   0.041567   0.891082\n",
       "std     0.447152   0.072927   0.067578   0.089387\n",
       "min    -0.862500   0.000000   0.000000   0.599000\n",
       "25%    -0.051600   0.000000   0.000000   0.839000\n",
       "50%     0.102700   0.054000   0.000000   0.897000\n",
       "75%     0.475400   0.116000   0.063000   0.955000\n",
       "max     0.932000   0.268000   0.278000   1.000000"
      ]
     },
     "execution_count": 8,
     "metadata": {},
     "output_type": "execute_result"
    }
   ],
   "source": [
    "# Describe the Bitcoin Sentiment\n",
    "btc_df.describe()"
   ]
  },
  {
   "cell_type": "code",
   "execution_count": 20,
   "metadata": {},
   "outputs": [
    {
     "data": {
      "image/png": "[encoded data removed]",
      "text/plain": [
       "<Figure size 864x432 with 2 Axes>"
      ]
     },
     "metadata": {
      "needs_background": "light"
     },
     "output_type": "display_data"
    },
    {
     "name": "stdout",
     "output_type": "stream",
     "text": [
      "Correlation between Bitcoin price and sentiment: 0.30\n"
     ]
    }
   ],
   "source": [
    "import requests\n",
    "import pandas as pd\n",
    "import matplotlib.pyplot as plt\n",
    "from datetime import datetime, timedelta\n",
    "\n",
    "def get_bitcoin_data(days=180):\n",
    "    end_date = datetime.now().strftime('%d-%m-%Y')\n",
    "    start_date = (datetime.now() - timedelta(days=days)).strftime('%d-%m-%Y')\n",
    "    \n",
    "    url = f\"https://api.coingecko.com/api/v3/coins/bitcoin/market_chart/range\"\n",
    "    \n",
    "    params = {\n",
    "        'vs_currency': 'usd',\n",
    "        'from': int(datetime.strptime(start_date, '%d-%m-%Y').timestamp()),\n",
    "        'to': int(datetime.strptime(end_date, '%d-%m-%Y').timestamp())\n",
    "    }\n",
    "    \n",
    "    response = requests.get(url, params=params)\n",
    "    \n",
    "    if response.status_code == 200:\n",
    "        data = response.json()\n",
    "        df = pd.DataFrame(data['prices'], columns=['Timestamp', 'Price'])\n",
    "        df['Date'] = pd.to_datetime(df['Timestamp'], unit='ms').dt.date\n",
    "        df = df.groupby('Date')['Price'].last().reset_index()\n",
    "        return df\n",
    "    else:\n",
    "        print(f\"Error fetching data: {response.status_code}\")\n",
    "        return None\n",
    "\n",
    "def plot_bitcoin_sentiment(btc_df, days=180):\n",
    "    bitcoin_prices = get_bitcoin_data(days)\n",
    "    if bitcoin_prices is None:\n",
    "        return\n",
    "    \n",
    "    btc_df['Date'] = pd.to_datetime(btc_df['Date']).dt.date\n",
    "    daily_sentiment = btc_df.groupby('Date')['Compound'].mean().reset_index()\n",
    "    \n",
    "    start_date = max(bitcoin_prices['Date'].min(), daily_sentiment['Date'].min())\n",
    "    end_date = min(bitcoin_prices['Date'].max(), daily_sentiment['Date'].max())\n",
    "    \n",
    "    bitcoin_prices = bitcoin_prices[(bitcoin_prices['Date'] >= start_date) & (bitcoin_prices['Date'] <= end_date)]\n",
    "    daily_sentiment = daily_sentiment[(daily_sentiment['Date'] >= start_date) & (daily_sentiment['Date'] <= end_date)]\n",
    "    \n",
    "    merged_data = pd.merge(bitcoin_prices, daily_sentiment, on='Date', how='inner')\n",
    "    \n",
    "    fig, ax1 = plt.subplots(figsize=(12,6))\n",
    "    \n",
    "    ax1.set_xlabel('Date')\n",
    "    ax1.set_ylabel('Bitcoin Price (USD)', color='tab:blue')\n",
    "    line1 = ax1.plot(merged_data['Date'], merged_data['Price'], color='tab:blue', label='Bitcoin Price')\n",
    "    \n",
    "    ax2 = ax1.twinx()\n",
    "    ax2.set_ylabel('Sentiment Score', color='tab:orange')\n",
    "    line2 = ax2.plot(merged_data['Date'], merged_data['Compound'], color='tab:orange', label='Sentiment')\n",
    "    \n",
    "    lines = line1 + line2\n",
    "    labels = [l.get_label() for l in lines]\n",
    "    ax1.legend(lines, labels, loc='upper left')\n",
    "    \n",
    "    plt.title(f'Bitcoin Price vs Sentiment (Last {days} days)')\n",
    "    plt.tight_layout()\n",
    "    plt.show()\n",
    "    \n",
    "    correlation = merged_data['Price'].corr(merged_data['Compound'])\n",
    "    print(f\"Correlation between Bitcoin price and sentiment: {correlation:.2f}\")\n",
    "\n",
    "# Example usage:\n",
    "# Assuming btc_df is your sentiment DataFrame\n",
    "plot_bitcoin_sentiment(btc_df, days=365)  # For 1 years (max limit)"
   ]
  },
  {
   "cell_type": "markdown",
   "metadata": {},
   "source": [
    "---"
   ]
  }
 ],
 "metadata": {
  "file_extension": ".py",
  "kernelspec": {
   "display_name": "Python 3 (ipykernel)",
   "language": "python",
   "name": "python3"
  },
  "language_info": {
   "codemirror_mode": {
    "name": "ipython",
    "version": 3
   },
   "file_extension": ".py",
   "mimetype": "text/x-python",
   "name": "python",
   "nbconvert_exporter": "python",
   "pygments_lexer": "ipython3",
   "version": "3.9.12"
  },
  "mimetype": "text/x-python",
  "name": "python",
  "npconvert_exporter": "python",
  "pygments_lexer": "ipython3",
  "version": 3
 },
 "nbformat": 4,
 "nbformat_minor": 4
}
